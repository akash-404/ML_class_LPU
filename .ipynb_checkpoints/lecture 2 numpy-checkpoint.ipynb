{
 "cells": [
  {
   "cell_type": "markdown",
   "metadata": {},
   "source": [
    "# Numpy"
   ]
  },
  {
   "cell_type": "code",
   "execution_count": 3,
   "metadata": {},
   "outputs": [],
   "source": [
    "import numpy as np\n",
    "import random"
   ]
  },
  {
   "cell_type": "code",
   "execution_count": 11,
   "metadata": {},
   "outputs": [
    {
     "name": "stdout",
     "output_type": "stream",
     "text": [
      "[[-1  3  1]\n",
      " [-5 -5 -2]\n",
      " [ 1  0 -4]\n",
      " [ 0  1 -2]\n",
      " [ 2  4  1]\n",
      " [-2 -5 -2]\n",
      " [ 1 -4  3]\n",
      " [ 0 -4  1]\n",
      " [-5  2 -4]\n",
      " [-5  0  4]]\n",
      "(10, 3)\n",
      "[[-1 -5  1  0  2 -2  1  0 -5 -5]\n",
      " [ 3 -5  0  1  4 -5 -4 -4  2  0]\n",
      " [ 1 -2 -4 -2  1 -2  3  1 -4  4]]\n"
     ]
    }
   ],
   "source": [
    "#np.arange()\n",
    "# create a matrix of size 10,3 with random integers ranging -5 to 5\n",
    "\n",
    "x = np.random.randint(-5, 5,size=(10,3))\n",
    "print(x)\n",
    "print(x.shape)\n",
    "print(x.T)"
   ]
  },
  {
   "cell_type": "code",
   "execution_count": 14,
   "metadata": {},
   "outputs": [
    {
     "name": "stdout",
     "output_type": "stream",
     "text": [
      "[[0.89095316 0.30671721 0.31846622]]\n"
     ]
    }
   ],
   "source": [
    "w = np.random.random(size=(1,3))\n",
    "print(w)\n",
    "\n",
    "b=0"
   ]
  },
  {
   "cell_type": "code",
   "execution_count": 17,
   "metadata": {},
   "outputs": [
    {
     "name": "stdout",
     "output_type": "stream",
     "text": [
      "[[ 0.3476647  -6.62528434 -0.38291172 -0.33021523  3.32724141 -3.95242484\n",
      "   0.61948297 -0.90840264 -5.11519628 -3.18090094]] \n",
      " (1, 10)\n"
     ]
    }
   ],
   "source": [
    "# n = w*x.T +b\n",
    "\n",
    "n = np.dot(w,x.T) + b\n",
    "print(n,\"\\n\",n.shape)"
   ]
  },
  {
   "cell_type": "code",
   "execution_count": 30,
   "metadata": {},
   "outputs": [],
   "source": [
    "def ppn(x):\n",
    "    out = []\n",
    "    for i in x[0]:\n",
    "        if(i>=0):\n",
    "            out.append(1)\n",
    "        else:\n",
    "            out.append(-1)\n",
    "    return out\n",
    "    "
   ]
  },
  {
   "cell_type": "code",
   "execution_count": 32,
   "metadata": {},
   "outputs": [
    {
     "name": "stdout",
     "output_type": "stream",
     "text": [
      "[1, -1, -1, -1, 1, -1, 1, -1, -1, -1]\n"
     ]
    }
   ],
   "source": [
    "print(ppn(n))"
   ]
  },
  {
   "cell_type": "code",
   "execution_count": 34,
   "metadata": {},
   "outputs": [
    {
     "name": "stdout",
     "output_type": "stream",
     "text": [
      "[ 1 -1 -1 -1  1 -1  1 -1 -1 -1]\n"
     ]
    }
   ],
   "source": [
    "#another method to do above task\n",
    "\n",
    "out1 = np.where(n[0]>0, 1, -1)\n",
    "print(out1)"
   ]
  },
  {
   "cell_type": "code",
   "execution_count": 36,
   "metadata": {},
   "outputs": [
    {
     "name": "stdout",
     "output_type": "stream",
     "text": [
      "1's 3\n",
      "-1's 7\n"
     ]
    }
   ],
   "source": [
    "#find number of 1 and -1\n",
    "\n",
    "c = 0\n",
    "for i in out1:\n",
    "    if(i==1):\n",
    "        c+=1\n",
    "        print()\n",
    "        \n",
    "print(\"1's\",c)\n",
    "print(\"-1's\",len(out1)-c)"
   ]
  },
  {
   "cell_type": "code",
   "execution_count": 37,
   "metadata": {},
   "outputs": [
    {
     "name": "stdout",
     "output_type": "stream",
     "text": [
      "number of 1 =  3\n",
      "number of -1 =  7\n"
     ]
    }
   ],
   "source": [
    "#another way \n",
    "n1 = (out1==1).sum()    #out1==1 is comparison which gives 1 or 0 as output which can be summed\n",
    "n2 = (out1==-1).sum()\n",
    "print(\"number of 1 = \", n1)\n",
    "print(\"number of -1 = \", n2)"
   ]
  },
  {
   "cell_type": "code",
   "execution_count": 41,
   "metadata": {},
   "outputs": [
    {
     "name": "stdout",
     "output_type": "stream",
     "text": [
      "(array([0, 4, 6], dtype=int64),)\n",
      "[0 4 6]\n",
      "(array([1, 2, 3, 5, 7, 8, 9], dtype=int64),)\n",
      "[1 2 3 5 7 8 9]\n"
     ]
    }
   ],
   "source": [
    "#find index of 1 and -1\n",
    "\n",
    "c1_index = np.where(out1==1)\n",
    "print(c1_index)\n",
    "print(c1_index[0])\n",
    "\n",
    "c2_index = np.where(out1==-1)\n",
    "print(c2_index)\n",
    "print(c2_index[0])"
   ]
  },
  {
   "cell_type": "code",
   "execution_count": 46,
   "metadata": {},
   "outputs": [
    {
     "name": "stdout",
     "output_type": "stream",
     "text": [
      "[ 1 -1 -1 -1  1 -1  1 -1 -1 -1]\n",
      "[[ 1 -1 -1 -1  1]\n",
      " [-1  1 -1 -1 -1]]\n",
      "[[ 1 -1 -1 -1  1 -1  1 -1 -1 -1  1 -1 -1 -1  1]\n",
      " [-1  1 -1 -1 -1  1 -1 -1 -1  1 -1  1 -1 -1 -1]]\n"
     ]
    }
   ],
   "source": [
    "print(out1)\n",
    "o2 = np.reshape(out1, (2, 5))   #only take given elements i.e, new one has to be multilple \n",
    "print(o2)\n",
    "\n",
    "o2 = np.resize(out1, (2, 15))   #can take any shape and create matrix by copying\n",
    "print(o2)"
   ]
  },
  {
   "cell_type": "code",
   "execution_count": null,
   "metadata": {},
   "outputs": [],
   "source": []
  },
  {
   "cell_type": "code",
   "execution_count": null,
   "metadata": {},
   "outputs": [],
   "source": []
  },
  {
   "cell_type": "code",
   "execution_count": null,
   "metadata": {},
   "outputs": [],
   "source": []
  },
  {
   "cell_type": "markdown",
   "metadata": {},
   "source": [
    "## Activation Functions\n",
    "\n",
    "to limit output between a certain range"
   ]
  },
  {
   "cell_type": "markdown",
   "metadata": {},
   "source": [
    "1 - (no limt) Linear / Identity -> f(x) = x\n",
    "\n",
    "2 - (0,1) threshhold / binarystep -> f(x) = 1 if x>=0 and -1 if x<0\n",
    "\n",
    "3 - [0,1] logsigmoid -> f(x) = 1/(1+e^(-x))\n",
    "\n",
    "4 - (-1,1) tanh -> f(x) = (2/(1+e^(-2x))) -1\n",
    "\n",
    "5 - (-pi/2,pi/2) qrctan -> f(x) = tan^(-1)(x)\n",
    "\n",
    "6 - (0,x) ReLu -> f(x) = 0 for x<0 and x for x>=0\n",
    "\n",
    "7 - (0.01,x) Leaky ReLu -> f(X) = 0.01*x for x<0 and x for x>0"
   ]
  },
  {
   "cell_type": "code",
   "execution_count": null,
   "metadata": {},
   "outputs": [],
   "source": [
    "#Plot all activation functions in a single figure using subplots"
   ]
  }
 ],
 "metadata": {
  "kernelspec": {
   "display_name": "Python 3",
   "language": "python",
   "name": "python3"
  },
  "language_info": {
   "codemirror_mode": {
    "name": "ipython",
    "version": 3
   },
   "file_extension": ".py",
   "mimetype": "text/x-python",
   "name": "python",
   "nbconvert_exporter": "python",
   "pygments_lexer": "ipython3",
   "version": "3.7.6"
  }
 },
 "nbformat": 4,
 "nbformat_minor": 2
}
