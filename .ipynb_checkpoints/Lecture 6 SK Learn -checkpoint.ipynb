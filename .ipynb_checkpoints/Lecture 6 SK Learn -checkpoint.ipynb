{
 "cells": [
  {
   "cell_type": "code",
   "execution_count": 3,
   "metadata": {},
   "outputs": [],
   "source": [
    "import numpy as np\n",
    "import pandas as pd\n",
    "from sklearn.impute import SimpleImputer\n"
   ]
  },
  {
   "cell_type": "code",
   "execution_count": 4,
   "metadata": {},
   "outputs": [
    {
     "name": "stdout",
     "output_type": "stream",
     "text": [
      "      A     B     C     D\n",
      "0  10.0  20.0  30.0  40.0\n",
      "1   1.0   2.0   NaN   4.0\n",
      "2   5.0   6.0   NaN   8.0\n",
      "3   0.0  11.0  12.0   NaN\n"
     ]
    }
   ],
   "source": [
    "df = pd.read_csv(\"file2.csv\")\n",
    "print(df)#dataframe"
   ]
  },
  {
   "cell_type": "code",
   "execution_count": 10,
   "metadata": {},
   "outputs": [
    {
     "name": "stdout",
     "output_type": "stream",
     "text": [
      "[[10.         20.         30.         40.        ]\n",
      " [ 1.          2.         21.          4.        ]\n",
      " [ 5.          6.         21.          8.        ]\n",
      " [ 0.         11.         12.         17.33333333]]\n"
     ]
    }
   ],
   "source": [
    "imr = SimpleImputer(missing_values=np.nan,strategy='mean')\n",
    "# strategy = mean, median, most_frequent\n",
    "imr = imr.fit(df)\n",
    "imputed_data = imr.transform(df.values)\n",
    "print(imputed_data)"
   ]
  },
  {
   "cell_type": "code",
   "execution_count": 6,
   "metadata": {},
   "outputs": [
    {
     "name": "stdout",
     "output_type": "stream",
     "text": [
      "[[10. 20. 30. 40.]\n",
      " [ 1.  2. 21.  4.]\n",
      " [ 5.  6. 21.  8.]\n",
      " [ 0. 11. 12.  8.]]\n"
     ]
    }
   ],
   "source": [
    "imr = SimpleImputer(missing_values=np.nan,strategy='median')\n",
    "# strategy = mean, median, mode, most_frequent\n",
    "imr = imr.fit(df)\n",
    "imputed_data = imr.transform(df.values)\n",
    "print(imputed_data)"
   ]
  },
  {
   "cell_type": "code",
   "execution_count": 8,
   "metadata": {},
   "outputs": [
    {
     "name": "stdout",
     "output_type": "stream",
     "text": [
      "[[10. 20. 30. 40.]\n",
      " [ 1.  2. 12.  4.]\n",
      " [ 5.  6. 12.  8.]\n",
      " [ 0. 11. 12.  4.]]\n"
     ]
    }
   ],
   "source": [
    "imr = SimpleImputer(missing_values=np.nan,strategy='most_frequent')\n",
    "# strategy = mean, median, mode, most_frequent\n",
    "imr = imr.fit(df)\n",
    "imputed_data = imr.transform(df.values)\n",
    "print(imputed_data)"
   ]
  },
  {
   "cell_type": "code",
   "execution_count": 9,
   "metadata": {},
   "outputs": [
    {
     "data": {
      "text/html": [
       "<div>\n",
       "<style scoped>\n",
       "    .dataframe tbody tr th:only-of-type {\n",
       "        vertical-align: middle;\n",
       "    }\n",
       "\n",
       "    .dataframe tbody tr th {\n",
       "        vertical-align: top;\n",
       "    }\n",
       "\n",
       "    .dataframe thead th {\n",
       "        text-align: right;\n",
       "    }\n",
       "</style>\n",
       "<table border=\"1\" class=\"dataframe\">\n",
       "  <thead>\n",
       "    <tr style=\"text-align: right;\">\n",
       "      <th></th>\n",
       "      <th>A</th>\n",
       "      <th>B</th>\n",
       "      <th>C</th>\n",
       "      <th>D</th>\n",
       "    </tr>\n",
       "  </thead>\n",
       "  <tbody>\n",
       "    <tr>\n",
       "      <td>0</td>\n",
       "      <td>10.0</td>\n",
       "      <td>20.0</td>\n",
       "      <td>30.0</td>\n",
       "      <td>40.0</td>\n",
       "    </tr>\n",
       "    <tr>\n",
       "      <td>1</td>\n",
       "      <td>1.0</td>\n",
       "      <td>2.0</td>\n",
       "      <td>NaN</td>\n",
       "      <td>4.0</td>\n",
       "    </tr>\n",
       "    <tr>\n",
       "      <td>2</td>\n",
       "      <td>5.0</td>\n",
       "      <td>6.0</td>\n",
       "      <td>NaN</td>\n",
       "      <td>8.0</td>\n",
       "    </tr>\n",
       "    <tr>\n",
       "      <td>3</td>\n",
       "      <td>0.0</td>\n",
       "      <td>11.0</td>\n",
       "      <td>12.0</td>\n",
       "      <td>NaN</td>\n",
       "    </tr>\n",
       "  </tbody>\n",
       "</table>\n",
       "</div>"
      ],
      "text/plain": [
       "      A     B     C     D\n",
       "0  10.0  20.0  30.0  40.0\n",
       "1   1.0   2.0   NaN   4.0\n",
       "2   5.0   6.0   NaN   8.0\n",
       "3   0.0  11.0  12.0   NaN"
      ]
     },
     "execution_count": 9,
     "metadata": {},
     "output_type": "execute_result"
    }
   ],
   "source": [
    "df"
   ]
  },
  {
   "cell_type": "markdown",
   "metadata": {},
   "source": [
    "### Mapping"
   ]
  },
  {
   "cell_type": "code",
   "execution_count": 11,
   "metadata": {},
   "outputs": [
    {
     "name": "stdout",
     "output_type": "stream",
     "text": [
      "   Color Size  Price Classlabel\n",
      "0    Red    L  15.10     Class1\n",
      "1  Green   XL  20.00     Class2\n",
      "2   Blue    S  12.34     Class2\n",
      "3    Red    M  13.00     Class1\n"
     ]
    }
   ],
   "source": [
    "data = pd.read_csv(\"file3.csv\")\n",
    "print(data)"
   ]
  },
  {
   "cell_type": "code",
   "execution_count": 32,
   "metadata": {},
   "outputs": [
    {
     "name": "stdout",
     "output_type": "stream",
     "text": [
      "   Color Size  Price Classlabel\n",
      "0    Red    3  15.10     Class1\n",
      "1  Green    4  20.00     Class2\n",
      "2   Blue    1  12.34     Class2\n",
      "3    Red    2  13.00     Class1\n"
     ]
    }
   ],
   "source": [
    "size_mapping = {\"XS\":0, \"S\":1,\"M\":2, \"L\":3,\"XL\":4, \"XXL\":5}\n",
    "data1 = data.replace(size_mapping)\n",
    "print(data1)"
   ]
  },
  {
   "cell_type": "code",
   "execution_count": 23,
   "metadata": {},
   "outputs": [
    {
     "name": "stdout",
     "output_type": "stream",
     "text": [
      "   Color Size  Price  Classlabel\n",
      "0    Red    L  15.10           0\n",
      "1  Green   XL  20.00           2\n",
      "2   Blue    S  12.34           2\n",
      "3    Red    M  13.00           0\n"
     ]
    }
   ],
   "source": [
    "class_mapping = {\"Class1\":0, \"Class2\":1, \"Class2\":2}\n",
    "data2 = data.replace(class_mapping)\n",
    "print(data2)"
   ]
  },
  {
   "cell_type": "markdown",
   "metadata": {},
   "source": [
    "### inverse mapping"
   ]
  },
  {
   "cell_type": "code",
   "execution_count": 37,
   "metadata": {},
   "outputs": [
    {
     "name": "stdout",
     "output_type": "stream",
     "text": [
      "   Color Size  Price Classlabel\n",
      "0    Red    L  15.10     Class1\n",
      "1  Green   XL  20.00     Class2\n",
      "2   Blue    S  12.34     Class2\n",
      "3    Red    M  13.00     Class1 \n",
      "\n",
      "\n",
      "\n",
      "   Color Size  Price Classlabel\n",
      "0    Red    L  15.10     Class1\n",
      "1  Green   XL  20.00     Class2\n",
      "2   Blue    S  12.34     Class2\n",
      "3    Red    M  13.00     Class1\n"
     ]
    }
   ],
   "source": [
    "inverse_size_mapping = {v:k for k,v in size_mapping.items()}\n",
    "print(data1)\n",
    "data1 = data1.replace(inverse_size_mapping)\n",
    "#data1 = data1[\"Size\"].replace(inverse_size_mapping)    when we need to change data at particular column\n",
    "print(data1)"
   ]
  },
  {
   "cell_type": "code",
   "execution_count": 47,
   "metadata": {},
   "outputs": [
    {
     "data": {
      "text/plain": [
       "0     L\n",
       "1    XL\n",
       "2     S\n",
       "3     M\n",
       "Name: Size, dtype: object"
      ]
     },
     "execution_count": 47,
     "metadata": {},
     "output_type": "execute_result"
    }
   ],
   "source": [
    "data3 = data1[\"Size\"].replace(inverse_size_mapping)\n",
    "data3"
   ]
  },
  {
   "cell_type": "markdown",
   "metadata": {},
   "source": [
    "### Concatenation"
   ]
  },
  {
   "cell_type": "code",
   "execution_count": 48,
   "metadata": {},
   "outputs": [
    {
     "data": {
      "text/html": [
       "<div>\n",
       "<style scoped>\n",
       "    .dataframe tbody tr th:only-of-type {\n",
       "        vertical-align: middle;\n",
       "    }\n",
       "\n",
       "    .dataframe tbody tr th {\n",
       "        vertical-align: top;\n",
       "    }\n",
       "\n",
       "    .dataframe thead th {\n",
       "        text-align: right;\n",
       "    }\n",
       "</style>\n",
       "<table border=\"1\" class=\"dataframe\">\n",
       "  <thead>\n",
       "    <tr style=\"text-align: right;\">\n",
       "      <th></th>\n",
       "      <th>Classlabel</th>\n",
       "      <th>Color</th>\n",
       "      <th>Price</th>\n",
       "      <th>Size</th>\n",
       "    </tr>\n",
       "  </thead>\n",
       "  <tbody>\n",
       "    <tr>\n",
       "      <td>0</td>\n",
       "      <td>Class1</td>\n",
       "      <td>Red</td>\n",
       "      <td>15.10</td>\n",
       "      <td>L</td>\n",
       "    </tr>\n",
       "    <tr>\n",
       "      <td>1</td>\n",
       "      <td>Class2</td>\n",
       "      <td>Green</td>\n",
       "      <td>20.00</td>\n",
       "      <td>XL</td>\n",
       "    </tr>\n",
       "    <tr>\n",
       "      <td>2</td>\n",
       "      <td>Class2</td>\n",
       "      <td>Blue</td>\n",
       "      <td>12.34</td>\n",
       "      <td>S</td>\n",
       "    </tr>\n",
       "    <tr>\n",
       "      <td>3</td>\n",
       "      <td>Class1</td>\n",
       "      <td>Red</td>\n",
       "      <td>13.00</td>\n",
       "      <td>M</td>\n",
       "    </tr>\n",
       "  </tbody>\n",
       "</table>\n",
       "</div>"
      ],
      "text/plain": [
       "  Classlabel  Color  Price Size\n",
       "0     Class1    Red  15.10    L\n",
       "1     Class2  Green  20.00   XL\n",
       "2     Class2   Blue  12.34    S\n",
       "3     Class1    Red  13.00    M"
      ]
     },
     "execution_count": 48,
     "metadata": {},
     "output_type": "execute_result"
    }
   ],
   "source": [
    "data4 = pd.concat([data1[[\"Classlabel\", \"Color\", \"Price\"]],data3],axis = 1)\n",
    "data4"
   ]
  },
  {
   "cell_type": "code",
   "execution_count": 49,
   "metadata": {},
   "outputs": [
    {
     "data": {
      "text/html": [
       "<div>\n",
       "<style scoped>\n",
       "    .dataframe tbody tr th:only-of-type {\n",
       "        vertical-align: middle;\n",
       "    }\n",
       "\n",
       "    .dataframe tbody tr th {\n",
       "        vertical-align: top;\n",
       "    }\n",
       "\n",
       "    .dataframe thead th {\n",
       "        text-align: right;\n",
       "    }\n",
       "</style>\n",
       "<table border=\"1\" class=\"dataframe\">\n",
       "  <thead>\n",
       "    <tr style=\"text-align: right;\">\n",
       "      <th></th>\n",
       "      <th>Color</th>\n",
       "      <th>Size</th>\n",
       "      <th>Price</th>\n",
       "      <th>Classlabel</th>\n",
       "    </tr>\n",
       "  </thead>\n",
       "  <tbody>\n",
       "    <tr>\n",
       "      <td>0</td>\n",
       "      <td>Red</td>\n",
       "      <td>L</td>\n",
       "      <td>15.10</td>\n",
       "      <td>Class1</td>\n",
       "    </tr>\n",
       "    <tr>\n",
       "      <td>1</td>\n",
       "      <td>Green</td>\n",
       "      <td>XL</td>\n",
       "      <td>20.00</td>\n",
       "      <td>Class2</td>\n",
       "    </tr>\n",
       "    <tr>\n",
       "      <td>2</td>\n",
       "      <td>Blue</td>\n",
       "      <td>S</td>\n",
       "      <td>12.34</td>\n",
       "      <td>Class2</td>\n",
       "    </tr>\n",
       "    <tr>\n",
       "      <td>3</td>\n",
       "      <td>Red</td>\n",
       "      <td>M</td>\n",
       "      <td>13.00</td>\n",
       "      <td>Class1</td>\n",
       "    </tr>\n",
       "  </tbody>\n",
       "</table>\n",
       "</div>"
      ],
      "text/plain": [
       "   Color Size  Price Classlabel\n",
       "0    Red    L  15.10     Class1\n",
       "1  Green   XL  20.00     Class2\n",
       "2   Blue    S  12.34     Class2\n",
       "3    Red    M  13.00     Class1"
      ]
     },
     "execution_count": 49,
     "metadata": {},
     "output_type": "execute_result"
    }
   ],
   "source": [
    "data"
   ]
  },
  {
   "cell_type": "markdown",
   "metadata": {},
   "source": [
    "### Map Classlabel in 1 and 2 numeric values using label encoder and vice versa\n",
    "### Transform all values color, size and Classlabel in numeric using label encoder "
   ]
  },
  {
   "cell_type": "code",
   "execution_count": 51,
   "metadata": {},
   "outputs": [
    {
     "name": "stdout",
     "output_type": "stream",
     "text": [
      "[0 3 2 1]\n",
      "['L' 'XL' 'S' 'M']\n"
     ]
    }
   ],
   "source": [
    "from sklearn.preprocessing import LabelEncoder\n",
    "le = LabelEncoder()\n",
    "y = le.fit_transform(data[\"Size\"].values)\n",
    "print(y)\n",
    "\n",
    "z = le.inverse_transform(y)\n",
    "print(z)"
   ]
  },
  {
   "cell_type": "code",
   "execution_count": 60,
   "metadata": {},
   "outputs": [
    {
     "name": "stdout",
     "output_type": "stream",
     "text": [
      "[['Red' 'L' 15.1 'Class1']\n",
      " ['Green' 'XL' 20.0 'Class2']\n",
      " ['Blue' 'S' 12.34 'Class2']\n",
      " ['Red' 'M' 13.0 'Class1']] \n",
      "\n",
      "\n",
      "[[2 'L' 15.1 'Class1']\n",
      " [1 'XL' 20.0 'Class2']\n",
      " [0 'S' 12.34 'Class2']\n",
      " [2 'M' 13.0 'Class1']] \n",
      "\n",
      "\n",
      "[[2 0 15.1 'Class1']\n",
      " [1 3 20.0 'Class2']\n",
      " [0 2 12.34 'Class2']\n",
      " [2 1 13.0 'Class1']] \n",
      "\n",
      "\n",
      "[[2 0 15.1 0]\n",
      " [1 3 20.0 1]\n",
      " [0 2 12.34 1]\n",
      " [2 1 13.0 0]]\n"
     ]
    }
   ],
   "source": [
    "X = data.values\n",
    "print(X,\"\\n\\n\")\n",
    "X[:,0] = le.fit_transform(X[:,0])\n",
    "print(X, \"\\n\\n\")\n",
    "\n",
    "X[:,1] = le.fit_transform(X[:,1])\n",
    "print(X,\"\\n\\n\")\n",
    "\n",
    "#price colum is already transformed\n",
    "\n",
    "X[:,3] = le.fit_transform(X[:,3])\n",
    "print(X)"
   ]
  },
  {
   "cell_type": "markdown",
   "metadata": {},
   "source": [
    "## One Hot Encoding"
   ]
  },
  {
   "cell_type": "code",
   "execution_count": 72,
   "metadata": {},
   "outputs": [
    {
     "data": {
      "text/html": [
       "<div>\n",
       "<style scoped>\n",
       "    .dataframe tbody tr th:only-of-type {\n",
       "        vertical-align: middle;\n",
       "    }\n",
       "\n",
       "    .dataframe tbody tr th {\n",
       "        vertical-align: top;\n",
       "    }\n",
       "\n",
       "    .dataframe thead th {\n",
       "        text-align: right;\n",
       "    }\n",
       "</style>\n",
       "<table border=\"1\" class=\"dataframe\">\n",
       "  <thead>\n",
       "    <tr style=\"text-align: right;\">\n",
       "      <th></th>\n",
       "      <th>Country</th>\n",
       "    </tr>\n",
       "  </thead>\n",
       "  <tbody>\n",
       "    <tr>\n",
       "      <td>0</td>\n",
       "      <td>RUS</td>\n",
       "    </tr>\n",
       "    <tr>\n",
       "      <td>1</td>\n",
       "      <td>GER</td>\n",
       "    </tr>\n",
       "    <tr>\n",
       "      <td>2</td>\n",
       "      <td>IND</td>\n",
       "    </tr>\n",
       "    <tr>\n",
       "      <td>3</td>\n",
       "      <td>PAK</td>\n",
       "    </tr>\n",
       "    <tr>\n",
       "      <td>4</td>\n",
       "      <td>AUS</td>\n",
       "    </tr>\n",
       "    <tr>\n",
       "      <td>5</td>\n",
       "      <td>IND</td>\n",
       "    </tr>\n",
       "    <tr>\n",
       "      <td>6</td>\n",
       "      <td>IND</td>\n",
       "    </tr>\n",
       "    <tr>\n",
       "      <td>7</td>\n",
       "      <td>AUS</td>\n",
       "    </tr>\n",
       "    <tr>\n",
       "      <td>8</td>\n",
       "      <td>AUS</td>\n",
       "    </tr>\n",
       "    <tr>\n",
       "      <td>9</td>\n",
       "      <td>RUS</td>\n",
       "    </tr>\n",
       "  </tbody>\n",
       "</table>\n",
       "</div>"
      ],
      "text/plain": [
       "  Country\n",
       "0     RUS\n",
       "1     GER\n",
       "2     IND\n",
       "3     PAK\n",
       "4     AUS\n",
       "5     IND\n",
       "6     IND\n",
       "7     AUS\n",
       "8     AUS\n",
       "9     RUS"
      ]
     },
     "execution_count": 72,
     "metadata": {},
     "output_type": "execute_result"
    }
   ],
   "source": [
    "country_data = pd.DataFrame({\"Country\":[\"RUS\", \"GER\",\"IND\", \"PAK\",\"AUS\", \"IND\",\"IND\", \"AUS\",\"AUS\", \"RUS\"]})\n",
    "country_data"
   ]
  },
  {
   "cell_type": "code",
   "execution_count": 78,
   "metadata": {},
   "outputs": [
    {
     "name": "stdout",
     "output_type": "stream",
     "text": [
      "[4 1 2 3 0 2 2 0 0 4]\n"
     ]
    }
   ],
   "source": [
    "from sklearn.preprocessing import LabelEncoder\n",
    "le = LabelEncoder()\n",
    "country_data1 = le.fit_transform(country_data.values)#using normal encoding\n",
    "print(country_data1)"
   ]
  },
  {
   "cell_type": "code",
   "execution_count": 79,
   "metadata": {},
   "outputs": [
    {
     "name": "stdout",
     "output_type": "stream",
     "text": [
      "   Country_AUS  Country_GER  Country_IND  Country_PAK  Country_RUS\n",
      "0            0            0            0            0            1\n",
      "1            0            1            0            0            0\n",
      "2            0            0            1            0            0\n",
      "3            0            0            0            1            0\n",
      "4            1            0            0            0            0\n",
      "5            0            0            1            0            0\n",
      "6            0            0            1            0            0\n",
      "7            1            0            0            0            0\n",
      "8            1            0            0            0            0\n",
      "9            0            0            0            0            1\n"
     ]
    }
   ],
   "source": [
    "country_data2 = pd.get_dummies(country_data, prefix=[\"Country\"])\n",
    "print(country_data2)"
   ]
  },
  {
   "cell_type": "code",
   "execution_count": 86,
   "metadata": {},
   "outputs": [
    {
     "name": "stdout",
     "output_type": "stream",
     "text": [
      "[[0. 0. 0. 0. 1.]\n",
      " [0. 1. 0. 0. 0.]\n",
      " [0. 0. 1. 0. 0.]\n",
      " [0. 0. 0. 1. 0.]\n",
      " [1. 0. 0. 0. 0.]\n",
      " [0. 0. 1. 0. 0.]\n",
      " [0. 0. 1. 0. 0.]\n",
      " [1. 0. 0. 0. 0.]\n",
      " [1. 0. 0. 0. 0.]\n",
      " [0. 0. 0. 0. 1.]] \n",
      "\n",
      "\n",
      "     A    B    C    D    E\n",
      "0  0.0  0.0  0.0  0.0  1.0\n",
      "1  0.0  1.0  0.0  0.0  0.0\n",
      "2  0.0  0.0  1.0  0.0  0.0\n",
      "3  0.0  0.0  0.0  1.0  0.0\n",
      "4  1.0  0.0  0.0  0.0  0.0\n",
      "5  0.0  0.0  1.0  0.0  0.0\n",
      "6  0.0  0.0  1.0  0.0  0.0\n",
      "7  1.0  0.0  0.0  0.0  0.0\n",
      "8  1.0  0.0  0.0  0.0  0.0\n",
      "9  0.0  0.0  0.0  0.0  1.0\n"
     ]
    }
   ],
   "source": [
    "from sklearn.preprocessing import OneHotEncoder\n",
    "oe = OneHotEncoder()\n",
    "country_data3 = oe.fit_transform(country_data)\n",
    "print(country_data3.toarray(),\"\\n\\n\")\n",
    "country_data4 = pd.DataFrame(country_data3.toarray(), columns = [\"A\", \"B\", \"C\", \"D\", \"E\"])\n",
    "print(country_data4)"
   ]
  },
  {
   "cell_type": "code",
   "execution_count": 88,
   "metadata": {},
   "outputs": [
    {
     "name": "stdout",
     "output_type": "stream",
     "text": [
      "  Name Country\n",
      "0    A     RUS\n",
      "1    B     GER\n",
      "2    C     IND\n",
      "3    D     AUS\n"
     ]
    }
   ],
   "source": [
    "new_data = pd.DataFrame({\"Name\":[\"A\", \"B\", \"C\", \"D\"],\"Country\":[\"RUS\", \"GER\",\"IND\",\"AUS\"]})\n",
    "print(new_data)"
   ]
  },
  {
   "cell_type": "code",
   "execution_count": 94,
   "metadata": {},
   "outputs": [
    {
     "data": {
      "text/html": [
       "<div>\n",
       "<style scoped>\n",
       "    .dataframe tbody tr th:only-of-type {\n",
       "        vertical-align: middle;\n",
       "    }\n",
       "\n",
       "    .dataframe tbody tr th {\n",
       "        vertical-align: top;\n",
       "    }\n",
       "\n",
       "    .dataframe thead th {\n",
       "        text-align: right;\n",
       "    }\n",
       "</style>\n",
       "<table border=\"1\" class=\"dataframe\">\n",
       "  <thead>\n",
       "    <tr style=\"text-align: right;\">\n",
       "      <th></th>\n",
       "      <th>Name</th>\n",
       "      <th>Country</th>\n",
       "      <th>Country_AUS</th>\n",
       "      <th>Country_GER</th>\n",
       "      <th>Country_IND</th>\n",
       "      <th>Country_RUS</th>\n",
       "    </tr>\n",
       "  </thead>\n",
       "  <tbody>\n",
       "    <tr>\n",
       "      <td>0</td>\n",
       "      <td>A</td>\n",
       "      <td>RUS</td>\n",
       "      <td>0</td>\n",
       "      <td>0</td>\n",
       "      <td>0</td>\n",
       "      <td>1</td>\n",
       "    </tr>\n",
       "    <tr>\n",
       "      <td>1</td>\n",
       "      <td>B</td>\n",
       "      <td>GER</td>\n",
       "      <td>0</td>\n",
       "      <td>1</td>\n",
       "      <td>0</td>\n",
       "      <td>0</td>\n",
       "    </tr>\n",
       "    <tr>\n",
       "      <td>2</td>\n",
       "      <td>C</td>\n",
       "      <td>IND</td>\n",
       "      <td>0</td>\n",
       "      <td>0</td>\n",
       "      <td>1</td>\n",
       "      <td>0</td>\n",
       "    </tr>\n",
       "    <tr>\n",
       "      <td>3</td>\n",
       "      <td>D</td>\n",
       "      <td>AUS</td>\n",
       "      <td>1</td>\n",
       "      <td>0</td>\n",
       "      <td>0</td>\n",
       "      <td>0</td>\n",
       "    </tr>\n",
       "  </tbody>\n",
       "</table>\n",
       "</div>"
      ],
      "text/plain": [
       "  Name Country  Country_AUS  Country_GER  Country_IND  Country_RUS\n",
       "0    A     RUS            0            0            0            1\n",
       "1    B     GER            0            1            0            0\n",
       "2    C     IND            0            0            1            0\n",
       "3    D     AUS            1            0            0            0"
      ]
     },
     "execution_count": 94,
     "metadata": {},
     "output_type": "execute_result"
    }
   ],
   "source": [
    "new_data1 = pd.concat([new_data,pd.get_dummies(new_data[\"Country\"], prefix = \"Country\")],axis=1)\n",
    "new_data1"
   ]
  },
  {
   "cell_type": "code",
   "execution_count": 97,
   "metadata": {},
   "outputs": [
    {
     "name": "stdout",
     "output_type": "stream",
     "text": [
      "  Name  Country_AUS  Country_GER  Country_IND  Country_RUS\n",
      "0    A            0            0            0            1\n",
      "1    B            0            1            0            0\n",
      "2    C            0            0            1            0\n",
      "3    D            1            0            0            0\n"
     ]
    }
   ],
   "source": [
    "new_data2 = new_data1.drop(\"Country\", axis=1)\n",
    "print(new_data2)"
   ]
  },
  {
   "cell_type": "code",
   "execution_count": null,
   "metadata": {},
   "outputs": [],
   "source": []
  }
 ],
 "metadata": {
  "kernelspec": {
   "display_name": "Python 3",
   "language": "python",
   "name": "python3"
  },
  "language_info": {
   "codemirror_mode": {
    "name": "ipython",
    "version": 3
   },
   "file_extension": ".py",
   "mimetype": "text/x-python",
   "name": "python",
   "nbconvert_exporter": "python",
   "pygments_lexer": "ipython3",
   "version": "3.7.3"
  }
 },
 "nbformat": 4,
 "nbformat_minor": 2
}
