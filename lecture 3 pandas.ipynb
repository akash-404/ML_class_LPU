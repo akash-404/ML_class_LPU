{
 "cells": [
  {
   "cell_type": "markdown",
   "metadata": {},
   "source": [
    "# Pandas"
   ]
  },
  {
   "cell_type": "code",
   "execution_count": 1,
   "metadata": {},
   "outputs": [],
   "source": [
    "import pandas as pd"
   ]
  },
  {
   "cell_type": "code",
   "execution_count": null,
   "metadata": {},
   "outputs": [],
   "source": []
  },
  {
   "cell_type": "code",
   "execution_count": 31,
   "metadata": {},
   "outputs": [],
   "source": [
    "df = pd.read_csv(\"file1.csv\", header=None)"
   ]
  },
  {
   "cell_type": "code",
   "execution_count": 32,
   "metadata": {},
   "outputs": [
    {
     "name": "stdout",
     "output_type": "stream",
     "text": [
      "     0   1   2   3  4\n",
      "0    A   B   C   D  T\n",
      "1    1   2   3   4  1\n",
      "2    2   1   4   8  1\n",
      "3    3   0   5   9  1\n",
      "4    4  -1   6  10  1\n",
      "5    5  -2   7  11  0\n",
      "6    6  -3   8  12  1\n",
      "7    7  -4   9   8  0\n",
      "8    8  -5  10   9  0\n",
      "9    9  -6  11  10  0\n",
      "10  10  -7  12  11  1\n"
     ]
    }
   ],
   "source": [
    "print(df)\n"
   ]
  },
  {
   "cell_type": "code",
   "execution_count": 33,
   "metadata": {},
   "outputs": [
    {
     "name": "stdout",
     "output_type": "stream",
     "text": [
      "     0   1   2   3  4\n",
      "1    1   2   3   4  1\n",
      "2    2   1   4   8  1\n",
      "3    3   0   5   9  1\n",
      "4    4  -1   6  10  1\n",
      "5    5  -2   7  11  0\n",
      "6    6  -3   8  12  1\n",
      "7    7  -4   9   8  0\n",
      "8    8  -5  10   9  0\n",
      "9    9  -6  11  10  0\n",
      "10  10  -7  12  11  1\n"
     ]
    }
   ],
   "source": [
    "df=df.drop([0])\n",
    "print(df)"
   ]
  },
  {
   "cell_type": "code",
   "execution_count": 34,
   "metadata": {},
   "outputs": [
    {
     "name": "stdout",
     "output_type": "stream",
     "text": [
      "     1   2   3  4\n",
      "1    2   3   4  1\n",
      "2    1   4   8  1\n",
      "3    0   5   9  1\n",
      "4   -1   6  10  1\n",
      "5   -2   7  11  0\n",
      "6   -3   8  12  1\n",
      "7   -4   9   8  0\n",
      "8   -5  10   9  0\n",
      "9   -6  11  10  0\n",
      "10  -7  12  11  1\n"
     ]
    }
   ],
   "source": [
    "df=df.drop([0],axis=1)\n",
    "print(df)"
   ]
  },
  {
   "cell_type": "code",
   "execution_count": 36,
   "metadata": {},
   "outputs": [],
   "source": [
    "df.columns=[\"F2\",\"F3\",\"F4\",\"T\"]"
   ]
  },
  {
   "cell_type": "code",
   "execution_count": 37,
   "metadata": {},
   "outputs": [
    {
     "name": "stdout",
     "output_type": "stream",
     "text": [
      "    F2  F3  F4  T\n",
      "1    2   3   4  1\n",
      "2    1   4   8  1\n",
      "3    0   5   9  1\n",
      "4   -1   6  10  1\n",
      "5   -2   7  11  0\n",
      "6   -3   8  12  1\n",
      "7   -4   9   8  0\n",
      "8   -5  10   9  0\n",
      "9   -6  11  10  0\n",
      "10  -7  12  11  1\n"
     ]
    }
   ],
   "source": [
    "print(df)"
   ]
  },
  {
   "cell_type": "code",
   "execution_count": 39,
   "metadata": {},
   "outputs": [
    {
     "data": {
      "text/html": [
       "<div>\n",
       "<style scoped>\n",
       "    .dataframe tbody tr th:only-of-type {\n",
       "        vertical-align: middle;\n",
       "    }\n",
       "\n",
       "    .dataframe tbody tr th {\n",
       "        vertical-align: top;\n",
       "    }\n",
       "\n",
       "    .dataframe thead th {\n",
       "        text-align: right;\n",
       "    }\n",
       "</style>\n",
       "<table border=\"1\" class=\"dataframe\">\n",
       "  <thead>\n",
       "    <tr style=\"text-align: right;\">\n",
       "      <th></th>\n",
       "      <th>F2</th>\n",
       "      <th>F3</th>\n",
       "      <th>F4</th>\n",
       "      <th>T</th>\n",
       "    </tr>\n",
       "  </thead>\n",
       "  <tbody>\n",
       "    <tr>\n",
       "      <td>count</td>\n",
       "      <td>10</td>\n",
       "      <td>10</td>\n",
       "      <td>10</td>\n",
       "      <td>10</td>\n",
       "    </tr>\n",
       "    <tr>\n",
       "      <td>unique</td>\n",
       "      <td>10</td>\n",
       "      <td>10</td>\n",
       "      <td>6</td>\n",
       "      <td>2</td>\n",
       "    </tr>\n",
       "    <tr>\n",
       "      <td>top</td>\n",
       "      <td>-7</td>\n",
       "      <td>6</td>\n",
       "      <td>9</td>\n",
       "      <td>1</td>\n",
       "    </tr>\n",
       "    <tr>\n",
       "      <td>freq</td>\n",
       "      <td>1</td>\n",
       "      <td>1</td>\n",
       "      <td>2</td>\n",
       "      <td>6</td>\n",
       "    </tr>\n",
       "  </tbody>\n",
       "</table>\n",
       "</div>"
      ],
      "text/plain": [
       "        F2  F3  F4   T\n",
       "count   10  10  10  10\n",
       "unique  10  10   6   2\n",
       "top     -7   6   9   1\n",
       "freq     1   1   2   6"
      ]
     },
     "execution_count": 39,
     "metadata": {},
     "output_type": "execute_result"
    }
   ],
   "source": [
    "df.describe()"
   ]
  },
  {
   "cell_type": "code",
   "execution_count": 43,
   "metadata": {},
   "outputs": [
    {
     "name": "stdout",
     "output_type": "stream",
     "text": [
      "F2    2\n",
      "F3    3\n",
      "F4    4\n",
      "T     1\n",
      "Name: 1, dtype: object\n",
      "   F2 F3  F4  T\n",
      "1   2  3   4  1\n",
      "2   1  4   8  1\n",
      "3   0  5   9  1\n",
      "4  -1  6  10  1\n"
     ]
    }
   ],
   "source": [
    "print(df.iloc[0])\n"
   ]
  },
  {
   "cell_type": "code",
   "execution_count": 45,
   "metadata": {},
   "outputs": [
    {
     "name": "stdout",
     "output_type": "stream",
     "text": [
      "   F2 F3  F4  T\n",
      "1   2  3   4  1\n",
      "2   1  4   8  1\n",
      "3   0  5   9  1\n",
      "4  -1  6  10  1\n"
     ]
    }
   ],
   "source": [
    "print(df.iloc[0:4])"
   ]
  },
  {
   "cell_type": "code",
   "execution_count": 44,
   "metadata": {},
   "outputs": [
    {
     "data": {
      "text/html": [
       "<div>\n",
       "<style scoped>\n",
       "    .dataframe tbody tr th:only-of-type {\n",
       "        vertical-align: middle;\n",
       "    }\n",
       "\n",
       "    .dataframe tbody tr th {\n",
       "        vertical-align: top;\n",
       "    }\n",
       "\n",
       "    .dataframe thead th {\n",
       "        text-align: right;\n",
       "    }\n",
       "</style>\n",
       "<table border=\"1\" class=\"dataframe\">\n",
       "  <thead>\n",
       "    <tr style=\"text-align: right;\">\n",
       "      <th></th>\n",
       "      <th>F2</th>\n",
       "      <th>F3</th>\n",
       "      <th>F4</th>\n",
       "      <th>T</th>\n",
       "    </tr>\n",
       "  </thead>\n",
       "  <tbody>\n",
       "    <tr>\n",
       "      <td>1</td>\n",
       "      <td>2</td>\n",
       "      <td>3</td>\n",
       "      <td>4</td>\n",
       "      <td>1</td>\n",
       "    </tr>\n",
       "    <tr>\n",
       "      <td>2</td>\n",
       "      <td>1</td>\n",
       "      <td>4</td>\n",
       "      <td>8</td>\n",
       "      <td>1</td>\n",
       "    </tr>\n",
       "    <tr>\n",
       "      <td>3</td>\n",
       "      <td>0</td>\n",
       "      <td>5</td>\n",
       "      <td>9</td>\n",
       "      <td>1</td>\n",
       "    </tr>\n",
       "    <tr>\n",
       "      <td>4</td>\n",
       "      <td>-1</td>\n",
       "      <td>6</td>\n",
       "      <td>10</td>\n",
       "      <td>1</td>\n",
       "    </tr>\n",
       "  </tbody>\n",
       "</table>\n",
       "</div>"
      ],
      "text/plain": [
       "   F2 F3  F4  T\n",
       "1   2  3   4  1\n",
       "2   1  4   8  1\n",
       "3   0  5   9  1\n",
       "4  -1  6  10  1"
      ]
     },
     "execution_count": 44,
     "metadata": {},
     "output_type": "execute_result"
    }
   ],
   "source": [
    "df.loc[0:4]"
   ]
  },
  {
   "cell_type": "code",
   "execution_count": 53,
   "metadata": {},
   "outputs": [
    {
     "name": "stdout",
     "output_type": "stream",
     "text": [
      "    F2  F3\n",
      "1    2   3\n",
      "2    1   4\n",
      "3    0   5\n",
      "4   -1   6\n",
      "5   -2   7\n",
      "6   -3   8\n",
      "7   -4   9\n",
      "8   -5  10\n",
      "9   -6  11\n",
      "10  -7  12\n"
     ]
    }
   ],
   "source": [
    "col=[\"F2\", \"F3\"]\n",
    "print(df[col])"
   ]
  },
  {
   "cell_type": "code",
   "execution_count": 56,
   "metadata": {},
   "outputs": [
    {
     "name": "stdout",
     "output_type": "stream",
     "text": [
      "['1' '0']\n",
      "Number of 1: 0\n"
     ]
    }
   ],
   "source": [
    "print(pd.unique(df[\"T\"]))\n",
    "print(\"Number of 1:\", (df[\"T\"]==1).sum())"
   ]
  },
  {
   "cell_type": "code",
   "execution_count": null,
   "metadata": {},
   "outputs": [],
   "source": []
  }
 ],
 "metadata": {
  "kernelspec": {
   "display_name": "Python 3",
   "language": "python",
   "name": "python3"
  },
  "language_info": {
   "codemirror_mode": {
    "name": "ipython",
    "version": 3
   },
   "file_extension": ".py",
   "mimetype": "text/x-python",
   "name": "python",
   "nbconvert_exporter": "python",
   "pygments_lexer": "ipython3",
   "version": "3.7.3"
  }
 },
 "nbformat": 4,
 "nbformat_minor": 2
}
