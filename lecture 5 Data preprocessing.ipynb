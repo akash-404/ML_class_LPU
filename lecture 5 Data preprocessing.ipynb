{
 "cells": [
  {
   "cell_type": "code",
   "execution_count": 3,
   "metadata": {},
   "outputs": [],
   "source": [
    "import pandas as pd"
   ]
  },
  {
   "cell_type": "code",
   "execution_count": 13,
   "metadata": {},
   "outputs": [
    {
     "name": "stdout",
     "output_type": "stream",
     "text": [
      "      A     B     C     D\n",
      "0  10.0  20.0  30.0  40.0\n",
      "1   1.0   2.0   NaN   4.0\n",
      "2   5.0   6.0   NaN   8.0\n",
      "3   0.0  11.0  12.0   NaN\n"
     ]
    },
    {
     "data": {
      "text/plain": [
       "\" can also use to create and read csv\\nfrom io import StringIO\\ncsv_data = '''A,B,....'''\\ndf = pf.read_csv(StringIO(csv_data))\\n\""
      ]
     },
     "execution_count": 13,
     "metadata": {},
     "output_type": "execute_result"
    }
   ],
   "source": [
    "df = pd.read_csv(\"file2.csv\")\n",
    "print(df)#dataframe\n",
    "\"\"\" can also use to create and read csv\n",
    "from io import StringIO\n",
    "csv_data = '''A,B,....'''\n",
    "df = pf.read_csv(StringIO(csv_data))\n",
    "\"\"\""
   ]
  },
  {
   "cell_type": "code",
   "execution_count": 5,
   "metadata": {},
   "outputs": [
    {
     "name": "stdout",
     "output_type": "stream",
     "text": [
      "      A     B     C     D\n",
      "0  10.0  20.0  30.0  40.0\n",
      "1   1.0   2.0   NaN   4.0\n",
      "2   5.0   6.0   NaN   8.0\n",
      "3   0.0  11.0  12.0   NaN\n"
     ]
    }
   ],
   "source": [
    "print(df.head())"
   ]
  },
  {
   "cell_type": "code",
   "execution_count": 6,
   "metadata": {},
   "outputs": [
    {
     "name": "stdout",
     "output_type": "stream",
     "text": [
      "A    0\n",
      "B    0\n",
      "C    2\n",
      "D    1\n",
      "dtype: int64\n"
     ]
    }
   ],
   "source": [
    "print(df.isnull().sum())#missing values"
   ]
  },
  {
   "cell_type": "code",
   "execution_count": 7,
   "metadata": {},
   "outputs": [
    {
     "name": "stdout",
     "output_type": "stream",
     "text": [
      "[[10. 20. 30. 40.]\n",
      " [ 1.  2. nan  4.]\n",
      " [ 5.  6. nan  8.]\n",
      " [ 0. 11. 12. nan]] \n",
      "\n",
      "\n",
      "nan\n"
     ]
    }
   ],
   "source": [
    "print(df.values,\"\\n\\n\")#convert df to matrix\n",
    "print(df.values[1][2])"
   ]
  },
  {
   "cell_type": "code",
   "execution_count": 8,
   "metadata": {},
   "outputs": [
    {
     "name": "stdout",
     "output_type": "stream",
     "text": [
      "      A     B     C     D\n",
      "0  10.0  20.0  30.0  40.0\n"
     ]
    }
   ],
   "source": [
    "df1 = df.dropna()#drop all the rows having NaN value\n",
    "print(df1)"
   ]
  },
  {
   "cell_type": "code",
   "execution_count": 9,
   "metadata": {},
   "outputs": [
    {
     "name": "stdout",
     "output_type": "stream",
     "text": [
      "      A     B\n",
      "0  10.0  20.0\n",
      "1   1.0   2.0\n",
      "2   5.0   6.0\n",
      "3   0.0  11.0\n"
     ]
    }
   ],
   "source": [
    "df2 = df.dropna(axis=1)#drop all the columns having NaN value\n",
    "print(df2)"
   ]
  },
  {
   "cell_type": "code",
   "execution_count": 10,
   "metadata": {},
   "outputs": [
    {
     "name": "stdout",
     "output_type": "stream",
     "text": [
      "      A     B     C     D\n",
      "0  10.0  20.0  30.0  40.0\n",
      "1   1.0   2.0   NaN   4.0\n",
      "2   5.0   6.0   NaN   8.0\n",
      "3   0.0  11.0  12.0   NaN\n"
     ]
    }
   ],
   "source": [
    "df3 = df.dropna(how = \"all\")#drop rows having all NaN values\n",
    "print(df3)"
   ]
  },
  {
   "cell_type": "code",
   "execution_count": 11,
   "metadata": {},
   "outputs": [
    {
     "name": "stdout",
     "output_type": "stream",
     "text": [
      "      A     B     C     D\n",
      "0  10.0  20.0  30.0  40.0\n"
     ]
    }
   ],
   "source": [
    "print(df.dropna(thresh = 4))#drop rows having less than threshhold non_NaN values"
   ]
  },
  {
   "cell_type": "code",
   "execution_count": 12,
   "metadata": {},
   "outputs": [
    {
     "name": "stdout",
     "output_type": "stream",
     "text": [
      "      A     B     C     D\n",
      "0  10.0  20.0  30.0  40.0\n",
      "3   0.0  11.0  12.0   NaN\n"
     ]
    }
   ],
   "source": [
    "print(df.dropna(subset=[\"C\"]))#to delete rows for particular column NaN"
   ]
  },
  {
   "cell_type": "code",
   "execution_count": null,
   "metadata": {},
   "outputs": [],
   "source": []
  },
  {
   "cell_type": "code",
   "execution_count": null,
   "metadata": {},
   "outputs": [],
   "source": []
  }
 ],
 "metadata": {
  "kernelspec": {
   "display_name": "Python 3",
   "language": "python",
   "name": "python3"
  },
  "language_info": {
   "codemirror_mode": {
    "name": "ipython",
    "version": 3
   },
   "file_extension": ".py",
   "mimetype": "text/x-python",
   "name": "python",
   "nbconvert_exporter": "python",
   "pygments_lexer": "ipython3",
   "version": "3.7.3"
  }
 },
 "nbformat": 4,
 "nbformat_minor": 2
}
