{
 "cells": [
  {
   "cell_type": "markdown",
   "metadata": {},
   "source": [
    "### Standardization and normalization"
   ]
  },
  {
   "cell_type": "code",
   "execution_count": 20,
   "metadata": {},
   "outputs": [],
   "source": [
    "import numpy as np\n",
    "import pandas as pd"
   ]
  },
  {
   "cell_type": "code",
   "execution_count": 21,
   "metadata": {},
   "outputs": [
    {
     "name": "stdout",
     "output_type": "stream",
     "text": [
      "[0 1 2 3 4 5]\n"
     ]
    }
   ],
   "source": [
    "x = np.array([0,1,2,3,4,5])\n",
    "print(x)"
   ]
  },
  {
   "cell_type": "code",
   "execution_count": 22,
   "metadata": {},
   "outputs": [],
   "source": [
    "def standardize(a):\n",
    "    return((a-np.mean(a))/np.std(a))"
   ]
  },
  {
   "cell_type": "code",
   "execution_count": 23,
   "metadata": {},
   "outputs": [
    {
     "name": "stdout",
     "output_type": "stream",
     "text": [
      "[-1.46385011 -0.87831007 -0.29277002  0.29277002  0.87831007  1.46385011]\n"
     ]
    }
   ],
   "source": [
    "std_array = standardize(x)\n",
    "print(std_array)"
   ]
  },
  {
   "cell_type": "code",
   "execution_count": 24,
   "metadata": {},
   "outputs": [],
   "source": [
    "def normalize(a):\n",
    "    return((a-min(a))/(max(a)-min(a)))"
   ]
  },
  {
   "cell_type": "code",
   "execution_count": 25,
   "metadata": {},
   "outputs": [
    {
     "name": "stdout",
     "output_type": "stream",
     "text": [
      "[0.  0.2 0.4 0.6 0.8 1. ]\n"
     ]
    }
   ],
   "source": [
    "norm_array = normalize(x)\n",
    "print(norm_array)"
   ]
  },
  {
   "cell_type": "code",
   "execution_count": 28,
   "metadata": {},
   "outputs": [
    {
     "data": {
      "text/plain": [
       "0    0\n",
       "1    1\n",
       "2    2\n",
       "3    3\n",
       "4    4\n",
       "5    5\n",
       "dtype: int32"
      ]
     },
     "execution_count": 28,
     "metadata": {},
     "output_type": "execute_result"
    }
   ],
   "source": [
    "pd.Series(x)"
   ]
  },
  {
   "cell_type": "code",
   "execution_count": 51,
   "metadata": {},
   "outputs": [
    {
     "name": "stdout",
     "output_type": "stream",
     "text": [
      "   X    std_x  nor_x\n",
      "0  0 -1.46385    0.0\n",
      "1  1 -0.87831    0.2\n",
      "2  2 -0.29277    0.4\n",
      "3  3  0.29277    0.6\n",
      "4  4  0.87831    0.8\n",
      "5  5  1.46385    1.0\n"
     ]
    }
   ],
   "source": [
    "df1 = pd.DataFrame({'X':x})\n",
    "df2 = pd.DataFrame({'std_x':std_array})\n",
    "df3 = pd.DataFrame({'nor_x':norm_array})\n",
    "\n",
    "df = pd.concat([df1,df2,df3], axis = 1)\n",
    "print(df)"
   ]
  },
  {
   "cell_type": "markdown",
   "metadata": {},
   "source": [
    "### using SkLearn"
   ]
  },
  {
   "cell_type": "code",
   "execution_count": 67,
   "metadata": {},
   "outputs": [
    {
     "name": "stdout",
     "output_type": "stream",
     "text": [
      "[[-1.46385011]\n",
      " [-0.87831007]\n",
      " [-0.29277002]\n",
      " [ 0.29277002]\n",
      " [ 0.87831007]\n",
      " [ 1.46385011]] \n",
      "\n",
      "\n",
      "[[0. ]\n",
      " [0.2]\n",
      " [0.4]\n",
      " [0.6]\n",
      " [0.8]\n",
      " [1. ]]\n"
     ]
    }
   ],
   "source": [
    "x_2d = [[0],[1],[2],[3],[4],[5]]\n",
    "\n",
    "from sklearn.preprocessing import StandardScaler\n",
    "std = StandardScaler()\n",
    "x_std = std.fit_transform(x_2d)\n",
    "from sklearn.preprocessing import MinMaxScaler\n",
    "norm = MinMaxScaler()\n",
    "x_norm = norm.fit_transform(x_2d)\n",
    "\n",
    "print(x_std,\"\\n\\n\")\n",
    "print(x_norm)"
   ]
  },
  {
   "cell_type": "code",
   "execution_count": 66,
   "metadata": {},
   "outputs": [
    {
     "name": "stdout",
     "output_type": "stream",
     "text": [
      "   X    std_X  norm_X\n",
      "0  0 -1.46385     0.0\n",
      "1  1 -0.87831     0.2\n",
      "2  2 -0.29277     0.4\n",
      "3  3  0.29277     0.6\n",
      "4  4  0.87831     0.8\n",
      "5  5  1.46385     1.0\n"
     ]
    }
   ],
   "source": [
    "df1 = pd.DataFrame(x, columns = [\"X\"])\n",
    "df2 = pd.DataFrame(x_std, columns = [\"std_X\"])\n",
    "df3 = pd.DataFrame(x_norm, columns = [\"norm_X\"])\n",
    "df = pd.concat([df1,df2,df3],axis = 1)\n",
    "print(df)"
   ]
  },
  {
   "cell_type": "code",
   "execution_count": null,
   "metadata": {},
   "outputs": [],
   "source": []
  },
  {
   "cell_type": "markdown",
   "metadata": {},
   "source": [
    "## Train test split"
   ]
  },
  {
   "cell_type": "code",
   "execution_count": 69,
   "metadata": {},
   "outputs": [
    {
     "name": "stdout",
     "output_type": "stream",
     "text": [
      "   X    std_X  norm_X  Target\n",
      "0  0 -1.46385     0.0       0\n",
      "1  1 -0.87831     0.2       0\n",
      "2  2 -0.29277     0.4       0\n",
      "3  3  0.29277     0.6       1\n",
      "4  4  0.87831     0.8       1\n",
      "5  5  1.46385     1.0       1\n"
     ]
    }
   ],
   "source": [
    "data = pd.concat([df, pd.DataFrame({\"Target\":[0,0,0,1,1,1]})], axis = 1)\n",
    "print(data)"
   ]
  },
  {
   "cell_type": "code",
   "execution_count": 74,
   "metadata": {},
   "outputs": [
    {
     "name": "stdout",
     "output_type": "stream",
     "text": [
      "   X    std_X  norm_X\n",
      "0  0 -1.46385     0.0\n",
      "1  1 -0.87831     0.2\n",
      "2  2 -0.29277     0.4\n",
      "3  3  0.29277     0.6\n",
      "4  4  0.87831     0.8\n",
      "5  5  1.46385     1.0 \n",
      " (6, 3)\n",
      "0    0\n",
      "1    0\n",
      "2    0\n",
      "3    1\n",
      "4    1\n",
      "5    1\n",
      "Name: Target, dtype: int64 \n",
      " (6,)\n"
     ]
    }
   ],
   "source": [
    "y = data[\"Target\"]\n",
    "X = data.drop([\"Target\"], axis=1)\n",
    "print(X, \"\\n\", X.shape)\n",
    "print(y, \"\\n\", y.shape)"
   ]
  },
  {
   "cell_type": "code",
   "execution_count": 78,
   "metadata": {},
   "outputs": [
    {
     "name": "stdout",
     "output_type": "stream",
     "text": [
      "(4, 3)\n",
      "(2, 3)\n",
      "   X    std_X  norm_X\n",
      "0  0 -1.46385     0.0\n",
      "3  3  0.29277     0.6\n",
      "4  4  0.87831     0.8\n",
      "1  1 -0.87831     0.2\n",
      "   X    std_X  norm_X\n",
      "2  2 -0.29277     0.4\n",
      "5  5  1.46385     1.0\n"
     ]
    }
   ],
   "source": [
    "from sklearn.model_selection import train_test_split\n",
    "X_train, X_test, y_train,y_test = train_test_split(X,y,test_size = 0.3, random_state = 10)\n",
    "print(X_train.shape)\n",
    "print(X_test.shape)\n",
    "print(X_train)\n",
    "print(X_test)"
   ]
  },
  {
   "cell_type": "code",
   "execution_count": null,
   "metadata": {},
   "outputs": [],
   "source": []
  }
 ],
 "metadata": {
  "kernelspec": {
   "display_name": "Python 3",
   "language": "python",
   "name": "python3"
  },
  "language_info": {
   "codemirror_mode": {
    "name": "ipython",
    "version": 3
   },
   "file_extension": ".py",
   "mimetype": "text/x-python",
   "name": "python",
   "nbconvert_exporter": "python",
   "pygments_lexer": "ipython3",
   "version": "3.7.3"
  }
 },
 "nbformat": 4,
 "nbformat_minor": 2
}
